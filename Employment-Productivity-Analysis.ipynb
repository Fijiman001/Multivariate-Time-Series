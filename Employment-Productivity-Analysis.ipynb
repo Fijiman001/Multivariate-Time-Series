{
 "cells": [
  {
   "cell_type": "markdown",
   "id": "6e90dbc5",
   "metadata": {},
   "source": [
    "I analyse Money (M2), GDP, CPI - Real money and real activity - and estimate a VAR/VECM model to analyse co-movements. The goal of this analysis also being to compare results in Python to other softwares that are more often used for MVTS modelling such as SAS or R. In particular, manually coding tests and confidence intervals is a goal of this mini project. Standard packages in Python only implement generalised tests that have predefined specifications that might give rise to false inferences. I compare my results to those of the lecture slides\n",
    "\n",
    "I got the Data from FRED:\n",
    "Non-Farm Payroll from BLS, CES: https://fred.stlouisfed.org/series/PAYEMS\n",
    "Productivity: "
   ]
  },
  {
   "cell_type": "code",
   "execution_count": null,
   "id": "257790e1",
   "metadata": {},
   "outputs": [],
   "source": []
  }
 ],
 "metadata": {
  "kernelspec": {
   "display_name": "Python 3",
   "language": "python",
   "name": "python3"
  },
  "language_info": {
   "codemirror_mode": {
    "name": "ipython",
    "version": 3
   },
   "file_extension": ".py",
   "mimetype": "text/x-python",
   "name": "python",
   "nbconvert_exporter": "python",
   "pygments_lexer": "ipython3",
   "version": "3.12.6"
  }
 },
 "nbformat": 4,
 "nbformat_minor": 5
}
